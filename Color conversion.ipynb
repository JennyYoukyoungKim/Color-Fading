{
 "cells": [
  {
   "cell_type": "code",
   "execution_count": 27,
   "id": "54c10fe9-605b-4cd1-9b5f-87a4806b01b5",
   "metadata": {},
   "outputs": [
    {
     "name": "stdout",
     "output_type": "stream",
     "text": [
      "XYZColor (xyz_x:0.0304 xyz_y:0.0315 xyz_z:0.0266)\n"
     ]
    }
   ],
   "source": [
    "from colormath.color_objects import LabColor, XYZColor\n",
    "from colormath.color_conversions import convert_color\n",
    "\n",
    "lab = LabColor(20.64, 0.07, -0.46)\n",
    "xyz = convert_color(lab, XYZColor)\n",
    "print (xyz)"
   ]
  },
  {
   "cell_type": "code",
   "execution_count": null,
   "id": "6a20d289",
   "metadata": {},
   "outputs": [],
   "source": []
  },
  {
   "cell_type": "code",
   "execution_count": null,
   "id": "bae49ec9",
   "metadata": {},
   "outputs": [],
   "source": []
  }
 ],
 "metadata": {
  "kernelspec": {
   "display_name": "Python 3 (ipykernel)",
   "language": "python",
   "name": "python3"
  },
  "language_info": {
   "codemirror_mode": {
    "name": "ipython",
    "version": 3
   },
   "file_extension": ".py",
   "mimetype": "text/x-python",
   "name": "python",
   "nbconvert_exporter": "python",
   "pygments_lexer": "ipython3",
   "version": "3.11.7"
  }
 },
 "nbformat": 4,
 "nbformat_minor": 5
}
